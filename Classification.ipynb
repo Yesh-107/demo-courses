{
  "nbformat": 4,
  "nbformat_minor": 0,
  "metadata": {
    "colab": {
      "name": "Classification.ipynb",
      "provenance": [],
      "authorship_tag": "ABX9TyN4yZCLP25htdgut12d2lEv",
      "include_colab_link": true
    },
    "kernelspec": {
      "name": "python3",
      "display_name": "Python 3"
    }
  },
  "cells": [
    {
      "cell_type": "markdown",
      "metadata": {
        "id": "view-in-github",
        "colab_type": "text"
      },
      "source": [
        "<a href=\"https://colab.research.google.com/github/Yesh-107/demo-courses/blob/master/Classification.ipynb\" target=\"_parent\"><img src=\"https://colab.research.google.com/assets/colab-badge.svg\" alt=\"Open In Colab\"/></a>"
      ]
    },
    {
      "cell_type": "code",
      "metadata": {
        "id": "jq5FleYBdUgI",
        "colab_type": "code",
        "outputId": "7805db60-9a93-4c05-cb77-f0bc1408555e",
        "colab": {
          "base_uri": "https://localhost:8080/",
          "height": 35
        }
      },
      "source": [
        "try:\n",
        "  # %tensorflow_version only exists in Colab.\n",
        "  %tensorflow_version 2.x\n",
        "except Exception:\n",
        "  pass\n",
        "\n",
        "import tensorflow as tf"
      ],
      "execution_count": 1,
      "outputs": [
        {
          "output_type": "stream",
          "text": [
            "TensorFlow 2.x selected.\n"
          ],
          "name": "stdout"
        }
      ]
    },
    {
      "cell_type": "code",
      "metadata": {
        "id": "BLMu7JcYdiJb",
        "colab_type": "code",
        "outputId": "63f685b2-bc53-49ac-8d78-7c4cd5124b7b",
        "colab": {
          "base_uri": "https://localhost:8080/",
          "height": 35
        }
      },
      "source": [
        "print(tf.__version__)"
      ],
      "execution_count": 2,
      "outputs": [
        {
          "output_type": "stream",
          "text": [
            "2.1.0\n"
          ],
          "name": "stdout"
        }
      ]
    },
    {
      "cell_type": "code",
      "metadata": {
        "id": "Ux46-ILmHwRF",
        "colab_type": "code",
        "colab": {}
      },
      "source": [
        "from sklearn.datasets import load_breast_cancer"
      ],
      "execution_count": 0,
      "outputs": []
    },
    {
      "cell_type": "code",
      "metadata": {
        "id": "ujtMyTRcH_qM",
        "colab_type": "code",
        "colab": {}
      },
      "source": [
        "data = load_breast_cancer()"
      ],
      "execution_count": 0,
      "outputs": []
    },
    {
      "cell_type": "code",
      "metadata": {
        "id": "zD58yRqTIc9P",
        "colab_type": "code",
        "colab": {
          "base_uri": "https://localhost:8080/",
          "height": 35
        },
        "outputId": "a2755283-c00f-41e8-92ab-729c8ca84f67"
      },
      "source": [
        "type(data)"
      ],
      "execution_count": 7,
      "outputs": [
        {
          "output_type": "execute_result",
          "data": {
            "text/plain": [
              "sklearn.utils.Bunch"
            ]
          },
          "metadata": {
            "tags": []
          },
          "execution_count": 7
        }
      ]
    },
    {
      "cell_type": "code",
      "metadata": {
        "id": "aE9RzLJ_I8rs",
        "colab_type": "code",
        "colab": {
          "base_uri": "https://localhost:8080/",
          "height": 35
        },
        "outputId": "f1b8e6cf-e71f-4b4e-be13-b75653a00245"
      },
      "source": [
        "data.feature_names.shape"
      ],
      "execution_count": 13,
      "outputs": [
        {
          "output_type": "execute_result",
          "data": {
            "text/plain": [
              "(30,)"
            ]
          },
          "metadata": {
            "tags": []
          },
          "execution_count": 13
        }
      ]
    },
    {
      "cell_type": "code",
      "metadata": {
        "id": "Whi9cdhAJHfB",
        "colab_type": "code",
        "colab": {
          "base_uri": "https://localhost:8080/",
          "height": 55
        },
        "outputId": "727444fa-473e-46b5-cbc7-cde4a8ea1cba"
      },
      "source": [
        "data.keys()"
      ],
      "execution_count": 9,
      "outputs": [
        {
          "output_type": "execute_result",
          "data": {
            "text/plain": [
              "dict_keys(['data', 'target', 'target_names', 'DESCR', 'feature_names', 'filename'])"
            ]
          },
          "metadata": {
            "tags": []
          },
          "execution_count": 9
        }
      ]
    },
    {
      "cell_type": "code",
      "metadata": {
        "id": "ixGEQ1awJN8A",
        "colab_type": "code",
        "colab": {}
      },
      "source": [
        "from sklearn.model_selection import train_test_split\n",
        "\n",
        "X_train, X_test, y_train, y_test = train_test_split(data.data,data.target,test_size = 0.25)"
      ],
      "execution_count": 0,
      "outputs": []
    },
    {
      "cell_type": "code",
      "metadata": {
        "id": "Pl71xOXyLI0s",
        "colab_type": "code",
        "colab": {}
      },
      "source": [
        "N,D = X_train.shape"
      ],
      "execution_count": 0,
      "outputs": []
    },
    {
      "cell_type": "code",
      "metadata": {
        "id": "HFckT1zpLQg5",
        "colab_type": "code",
        "colab": {}
      },
      "source": [
        "#Normalization\n",
        " from sklearn.preprocessing import StandardScaler"
      ],
      "execution_count": 0,
      "outputs": []
    },
    {
      "cell_type": "code",
      "metadata": {
        "id": "oAiDDaWAL24T",
        "colab_type": "code",
        "colab": {}
      },
      "source": [
        "scaler = StandardScaler()\n",
        "X_train = scaler.fit_transform(X_train)\n",
        "X_test = scaler.transform(X_test)"
      ],
      "execution_count": 0,
      "outputs": []
    },
    {
      "cell_type": "code",
      "metadata": {
        "id": "XsZEfCnSM--F",
        "colab_type": "code",
        "colab": {}
      },
      "source": [
        "tf_model = tf.keras.models.Sequential(\n",
        "    [\n",
        "     tf.keras.layers.Input(shape=(D,)),\n",
        "     tf.keras.layers.Dense(1, activation='sigmoid')\n",
        "    ]\n",
        ")\n"
      ],
      "execution_count": 0,
      "outputs": []
    },
    {
      "cell_type": "code",
      "metadata": {
        "id": "2oJ-hsOoOb25",
        "colab_type": "code",
        "colab": {}
      },
      "source": [
        "tf_model.compile(optimizer='adam',loss='binary_crossentropy',metrics=['accuracy'])"
      ],
      "execution_count": 0,
      "outputs": []
    },
    {
      "cell_type": "code",
      "metadata": {
        "id": "OdQnj70EOwxO",
        "colab_type": "code",
        "colab": {
          "base_uri": "https://localhost:8080/",
          "height": 1000
        },
        "outputId": "1e581500-a1ff-4ebc-931a-e7734dbd0edf"
      },
      "source": [
        "r = tf_model.fit(X_train,y_train,validation_data=(X_test,y_test),epochs=80)"
      ],
      "execution_count": 23,
      "outputs": [
        {
          "output_type": "stream",
          "text": [
            "Train on 426 samples, validate on 143 samples\n",
            "Epoch 1/80\n",
            "426/426 [==============================] - 0s 98us/sample - loss: 0.0769 - accuracy: 0.9812 - val_loss: 0.0575 - val_accuracy: 0.9860\n",
            "Epoch 2/80\n",
            "426/426 [==============================] - 0s 90us/sample - loss: 0.0768 - accuracy: 0.9812 - val_loss: 0.0575 - val_accuracy: 0.9860\n",
            "Epoch 3/80\n",
            "426/426 [==============================] - 0s 86us/sample - loss: 0.0766 - accuracy: 0.9812 - val_loss: 0.0574 - val_accuracy: 0.9860\n",
            "Epoch 4/80\n",
            "426/426 [==============================] - 0s 84us/sample - loss: 0.0764 - accuracy: 0.9812 - val_loss: 0.0574 - val_accuracy: 0.9860\n",
            "Epoch 5/80\n",
            "426/426 [==============================] - 0s 79us/sample - loss: 0.0764 - accuracy: 0.9812 - val_loss: 0.0573 - val_accuracy: 0.9860\n",
            "Epoch 6/80\n",
            "426/426 [==============================] - 0s 86us/sample - loss: 0.0761 - accuracy: 0.9812 - val_loss: 0.0573 - val_accuracy: 0.9860\n",
            "Epoch 7/80\n",
            "426/426 [==============================] - 0s 81us/sample - loss: 0.0760 - accuracy: 0.9812 - val_loss: 0.0572 - val_accuracy: 0.9860\n",
            "Epoch 8/80\n",
            "426/426 [==============================] - 0s 78us/sample - loss: 0.0758 - accuracy: 0.9812 - val_loss: 0.0572 - val_accuracy: 0.9860\n",
            "Epoch 9/80\n",
            "426/426 [==============================] - 0s 87us/sample - loss: 0.0757 - accuracy: 0.9812 - val_loss: 0.0571 - val_accuracy: 0.9860\n",
            "Epoch 10/80\n",
            "426/426 [==============================] - 0s 84us/sample - loss: 0.0755 - accuracy: 0.9812 - val_loss: 0.0571 - val_accuracy: 0.9860\n",
            "Epoch 11/80\n",
            "426/426 [==============================] - 0s 92us/sample - loss: 0.0753 - accuracy: 0.9812 - val_loss: 0.0572 - val_accuracy: 0.9860\n",
            "Epoch 12/80\n",
            "426/426 [==============================] - 0s 84us/sample - loss: 0.0752 - accuracy: 0.9812 - val_loss: 0.0572 - val_accuracy: 0.9860\n",
            "Epoch 13/80\n",
            "426/426 [==============================] - 0s 90us/sample - loss: 0.0751 - accuracy: 0.9812 - val_loss: 0.0570 - val_accuracy: 0.9860\n",
            "Epoch 14/80\n",
            "426/426 [==============================] - 0s 95us/sample - loss: 0.0749 - accuracy: 0.9812 - val_loss: 0.0570 - val_accuracy: 0.9860\n",
            "Epoch 15/80\n",
            "426/426 [==============================] - 0s 86us/sample - loss: 0.0748 - accuracy: 0.9812 - val_loss: 0.0574 - val_accuracy: 0.9860\n",
            "Epoch 16/80\n",
            "426/426 [==============================] - 0s 98us/sample - loss: 0.0746 - accuracy: 0.9812 - val_loss: 0.0574 - val_accuracy: 0.9860\n",
            "Epoch 17/80\n",
            "426/426 [==============================] - 0s 83us/sample - loss: 0.0745 - accuracy: 0.9812 - val_loss: 0.0573 - val_accuracy: 0.9860\n",
            "Epoch 18/80\n",
            "426/426 [==============================] - 0s 85us/sample - loss: 0.0744 - accuracy: 0.9812 - val_loss: 0.0573 - val_accuracy: 0.9860\n",
            "Epoch 19/80\n",
            "426/426 [==============================] - 0s 100us/sample - loss: 0.0742 - accuracy: 0.9812 - val_loss: 0.0576 - val_accuracy: 0.9860\n",
            "Epoch 20/80\n",
            "426/426 [==============================] - 0s 97us/sample - loss: 0.0741 - accuracy: 0.9812 - val_loss: 0.0575 - val_accuracy: 0.9860\n",
            "Epoch 21/80\n",
            "426/426 [==============================] - 0s 90us/sample - loss: 0.0739 - accuracy: 0.9812 - val_loss: 0.0577 - val_accuracy: 0.9860\n",
            "Epoch 22/80\n",
            "426/426 [==============================] - 0s 89us/sample - loss: 0.0738 - accuracy: 0.9836 - val_loss: 0.0577 - val_accuracy: 0.9860\n",
            "Epoch 23/80\n",
            "426/426 [==============================] - 0s 85us/sample - loss: 0.0736 - accuracy: 0.9836 - val_loss: 0.0575 - val_accuracy: 0.9860\n",
            "Epoch 24/80\n",
            "426/426 [==============================] - 0s 93us/sample - loss: 0.0735 - accuracy: 0.9836 - val_loss: 0.0577 - val_accuracy: 0.9860\n",
            "Epoch 25/80\n",
            "426/426 [==============================] - 0s 99us/sample - loss: 0.0733 - accuracy: 0.9836 - val_loss: 0.0578 - val_accuracy: 0.9860\n",
            "Epoch 26/80\n",
            "426/426 [==============================] - 0s 90us/sample - loss: 0.0732 - accuracy: 0.9836 - val_loss: 0.0580 - val_accuracy: 0.9860\n",
            "Epoch 27/80\n",
            "426/426 [==============================] - 0s 89us/sample - loss: 0.0731 - accuracy: 0.9836 - val_loss: 0.0580 - val_accuracy: 0.9860\n",
            "Epoch 28/80\n",
            "426/426 [==============================] - 0s 94us/sample - loss: 0.0730 - accuracy: 0.9836 - val_loss: 0.0575 - val_accuracy: 0.9860\n",
            "Epoch 29/80\n",
            "426/426 [==============================] - 0s 98us/sample - loss: 0.0728 - accuracy: 0.9836 - val_loss: 0.0575 - val_accuracy: 0.9860\n",
            "Epoch 30/80\n",
            "426/426 [==============================] - 0s 87us/sample - loss: 0.0727 - accuracy: 0.9836 - val_loss: 0.0574 - val_accuracy: 0.9860\n",
            "Epoch 31/80\n",
            "426/426 [==============================] - 0s 96us/sample - loss: 0.0726 - accuracy: 0.9836 - val_loss: 0.0575 - val_accuracy: 0.9860\n",
            "Epoch 32/80\n",
            "426/426 [==============================] - 0s 92us/sample - loss: 0.0724 - accuracy: 0.9836 - val_loss: 0.0576 - val_accuracy: 0.9860\n",
            "Epoch 33/80\n",
            "426/426 [==============================] - 0s 93us/sample - loss: 0.0723 - accuracy: 0.9836 - val_loss: 0.0574 - val_accuracy: 0.9860\n",
            "Epoch 34/80\n",
            "426/426 [==============================] - 0s 97us/sample - loss: 0.0722 - accuracy: 0.9836 - val_loss: 0.0574 - val_accuracy: 0.9860\n",
            "Epoch 35/80\n",
            "426/426 [==============================] - 0s 94us/sample - loss: 0.0720 - accuracy: 0.9836 - val_loss: 0.0573 - val_accuracy: 0.9860\n",
            "Epoch 36/80\n",
            "426/426 [==============================] - 0s 89us/sample - loss: 0.0719 - accuracy: 0.9836 - val_loss: 0.0576 - val_accuracy: 0.9860\n",
            "Epoch 37/80\n",
            "426/426 [==============================] - 0s 93us/sample - loss: 0.0718 - accuracy: 0.9836 - val_loss: 0.0576 - val_accuracy: 0.9860\n",
            "Epoch 38/80\n",
            "426/426 [==============================] - 0s 89us/sample - loss: 0.0717 - accuracy: 0.9836 - val_loss: 0.0574 - val_accuracy: 0.9860\n",
            "Epoch 39/80\n",
            "426/426 [==============================] - 0s 95us/sample - loss: 0.0715 - accuracy: 0.9836 - val_loss: 0.0575 - val_accuracy: 0.9860\n",
            "Epoch 40/80\n",
            "426/426 [==============================] - 0s 88us/sample - loss: 0.0714 - accuracy: 0.9836 - val_loss: 0.0576 - val_accuracy: 0.9860\n",
            "Epoch 41/80\n",
            "426/426 [==============================] - 0s 90us/sample - loss: 0.0713 - accuracy: 0.9836 - val_loss: 0.0576 - val_accuracy: 0.9790\n",
            "Epoch 42/80\n",
            "426/426 [==============================] - 0s 88us/sample - loss: 0.0712 - accuracy: 0.9836 - val_loss: 0.0574 - val_accuracy: 0.9860\n",
            "Epoch 43/80\n",
            "426/426 [==============================] - 0s 94us/sample - loss: 0.0710 - accuracy: 0.9836 - val_loss: 0.0574 - val_accuracy: 0.9790\n",
            "Epoch 44/80\n",
            "426/426 [==============================] - 0s 86us/sample - loss: 0.0709 - accuracy: 0.9836 - val_loss: 0.0574 - val_accuracy: 0.9860\n",
            "Epoch 45/80\n",
            "426/426 [==============================] - 0s 85us/sample - loss: 0.0708 - accuracy: 0.9836 - val_loss: 0.0574 - val_accuracy: 0.9790\n",
            "Epoch 46/80\n",
            "426/426 [==============================] - 0s 91us/sample - loss: 0.0707 - accuracy: 0.9836 - val_loss: 0.0574 - val_accuracy: 0.9790\n",
            "Epoch 47/80\n",
            "426/426 [==============================] - 0s 85us/sample - loss: 0.0706 - accuracy: 0.9836 - val_loss: 0.0574 - val_accuracy: 0.9790\n",
            "Epoch 48/80\n",
            "426/426 [==============================] - 0s 88us/sample - loss: 0.0705 - accuracy: 0.9836 - val_loss: 0.0572 - val_accuracy: 0.9790\n",
            "Epoch 49/80\n",
            "426/426 [==============================] - 0s 101us/sample - loss: 0.0704 - accuracy: 0.9836 - val_loss: 0.0576 - val_accuracy: 0.9790\n",
            "Epoch 50/80\n",
            "426/426 [==============================] - 0s 82us/sample - loss: 0.0702 - accuracy: 0.9836 - val_loss: 0.0577 - val_accuracy: 0.9790\n",
            "Epoch 51/80\n",
            "426/426 [==============================] - 0s 91us/sample - loss: 0.0701 - accuracy: 0.9836 - val_loss: 0.0577 - val_accuracy: 0.9790\n",
            "Epoch 52/80\n",
            "426/426 [==============================] - 0s 94us/sample - loss: 0.0700 - accuracy: 0.9836 - val_loss: 0.0576 - val_accuracy: 0.9790\n",
            "Epoch 53/80\n",
            "426/426 [==============================] - 0s 86us/sample - loss: 0.0699 - accuracy: 0.9836 - val_loss: 0.0576 - val_accuracy: 0.9790\n",
            "Epoch 54/80\n",
            "426/426 [==============================] - 0s 89us/sample - loss: 0.0698 - accuracy: 0.9836 - val_loss: 0.0572 - val_accuracy: 0.9790\n",
            "Epoch 55/80\n",
            "426/426 [==============================] - 0s 89us/sample - loss: 0.0696 - accuracy: 0.9836 - val_loss: 0.0573 - val_accuracy: 0.9790\n",
            "Epoch 56/80\n",
            "426/426 [==============================] - 0s 82us/sample - loss: 0.0695 - accuracy: 0.9836 - val_loss: 0.0573 - val_accuracy: 0.9790\n",
            "Epoch 57/80\n",
            "426/426 [==============================] - 0s 101us/sample - loss: 0.0695 - accuracy: 0.9836 - val_loss: 0.0575 - val_accuracy: 0.9790\n",
            "Epoch 58/80\n",
            "426/426 [==============================] - 0s 84us/sample - loss: 0.0694 - accuracy: 0.9836 - val_loss: 0.0575 - val_accuracy: 0.9790\n",
            "Epoch 59/80\n",
            "426/426 [==============================] - 0s 88us/sample - loss: 0.0693 - accuracy: 0.9836 - val_loss: 0.0572 - val_accuracy: 0.9790\n",
            "Epoch 60/80\n",
            "426/426 [==============================] - 0s 98us/sample - loss: 0.0692 - accuracy: 0.9836 - val_loss: 0.0571 - val_accuracy: 0.9790\n",
            "Epoch 61/80\n",
            "426/426 [==============================] - 0s 95us/sample - loss: 0.0690 - accuracy: 0.9836 - val_loss: 0.0571 - val_accuracy: 0.9790\n",
            "Epoch 62/80\n",
            "426/426 [==============================] - 0s 91us/sample - loss: 0.0689 - accuracy: 0.9836 - val_loss: 0.0573 - val_accuracy: 0.9790\n",
            "Epoch 63/80\n",
            "426/426 [==============================] - 0s 91us/sample - loss: 0.0688 - accuracy: 0.9836 - val_loss: 0.0573 - val_accuracy: 0.9790\n",
            "Epoch 64/80\n",
            "426/426 [==============================] - 0s 91us/sample - loss: 0.0687 - accuracy: 0.9836 - val_loss: 0.0570 - val_accuracy: 0.9790\n",
            "Epoch 65/80\n",
            "426/426 [==============================] - 0s 82us/sample - loss: 0.0686 - accuracy: 0.9836 - val_loss: 0.0571 - val_accuracy: 0.9790\n",
            "Epoch 66/80\n",
            "426/426 [==============================] - 0s 86us/sample - loss: 0.0685 - accuracy: 0.9836 - val_loss: 0.0570 - val_accuracy: 0.9790\n",
            "Epoch 67/80\n",
            "426/426 [==============================] - 0s 89us/sample - loss: 0.0684 - accuracy: 0.9836 - val_loss: 0.0569 - val_accuracy: 0.9790\n",
            "Epoch 68/80\n",
            "426/426 [==============================] - 0s 95us/sample - loss: 0.0683 - accuracy: 0.9836 - val_loss: 0.0568 - val_accuracy: 0.9790\n",
            "Epoch 69/80\n",
            "426/426 [==============================] - 0s 90us/sample - loss: 0.0682 - accuracy: 0.9859 - val_loss: 0.0569 - val_accuracy: 0.9790\n",
            "Epoch 70/80\n",
            "426/426 [==============================] - 0s 96us/sample - loss: 0.0681 - accuracy: 0.9859 - val_loss: 0.0573 - val_accuracy: 0.9790\n",
            "Epoch 71/80\n",
            "426/426 [==============================] - 0s 90us/sample - loss: 0.0680 - accuracy: 0.9859 - val_loss: 0.0575 - val_accuracy: 0.9790\n",
            "Epoch 72/80\n",
            "426/426 [==============================] - 0s 96us/sample - loss: 0.0679 - accuracy: 0.9859 - val_loss: 0.0579 - val_accuracy: 0.9790\n",
            "Epoch 73/80\n",
            "426/426 [==============================] - 0s 95us/sample - loss: 0.0678 - accuracy: 0.9859 - val_loss: 0.0580 - val_accuracy: 0.9790\n",
            "Epoch 74/80\n",
            "426/426 [==============================] - 0s 91us/sample - loss: 0.0677 - accuracy: 0.9859 - val_loss: 0.0579 - val_accuracy: 0.9790\n",
            "Epoch 75/80\n",
            "426/426 [==============================] - 0s 89us/sample - loss: 0.0676 - accuracy: 0.9859 - val_loss: 0.0579 - val_accuracy: 0.9790\n",
            "Epoch 76/80\n",
            "426/426 [==============================] - 0s 84us/sample - loss: 0.0675 - accuracy: 0.9859 - val_loss: 0.0581 - val_accuracy: 0.9790\n",
            "Epoch 77/80\n",
            "426/426 [==============================] - 0s 85us/sample - loss: 0.0674 - accuracy: 0.9859 - val_loss: 0.0583 - val_accuracy: 0.9790\n",
            "Epoch 78/80\n",
            "426/426 [==============================] - 0s 88us/sample - loss: 0.0673 - accuracy: 0.9859 - val_loss: 0.0586 - val_accuracy: 0.9790\n",
            "Epoch 79/80\n",
            "426/426 [==============================] - 0s 93us/sample - loss: 0.0673 - accuracy: 0.9859 - val_loss: 0.0584 - val_accuracy: 0.9790\n",
            "Epoch 80/80\n",
            "426/426 [==============================] - 0s 88us/sample - loss: 0.0672 - accuracy: 0.9859 - val_loss: 0.0584 - val_accuracy: 0.9790\n"
          ],
          "name": "stdout"
        }
      ]
    },
    {
      "cell_type": "code",
      "metadata": {
        "id": "DQ3ocMI2PK1A",
        "colab_type": "code",
        "colab": {}
      },
      "source": [
        ""
      ],
      "execution_count": 0,
      "outputs": []
    }
  ]
}