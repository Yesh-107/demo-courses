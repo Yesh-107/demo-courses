{
  "nbformat": 4,
  "nbformat_minor": 0,
  "metadata": {
    "colab": {
      "name": "MNIST_ANN.ipynb",
      "provenance": [],
      "authorship_tag": "ABX9TyObfDdTrK6Xn1gQtN7qZbJQ",
      "include_colab_link": true
    },
    "kernelspec": {
      "name": "python3",
      "display_name": "Python 3"
    }
  },
  "cells": [
    {
      "cell_type": "markdown",
      "metadata": {
        "id": "view-in-github",
        "colab_type": "text"
      },
      "source": [
        "<a href=\"https://colab.research.google.com/github/Yesh-107/demo-courses/blob/master/MNIST_ANN.ipynb\" target=\"_parent\"><img src=\"https://colab.research.google.com/assets/colab-badge.svg\" alt=\"Open In Colab\"/></a>"
      ]
    },
    {
      "cell_type": "code",
      "metadata": {
        "id": "Jhj5Tly5paPW",
        "colab_type": "code",
        "colab": {
          "base_uri": "https://localhost:8080/",
          "height": 52
        },
        "outputId": "bfdcc1d3-2d29-4fe4-a683-2e97cfe449fe"
      },
      "source": [
        "%tensorflow_version 2.x\n",
        "\n",
        "import tensorflow as tf\n",
        "print(tf.__version__)"
      ],
      "execution_count": 1,
      "outputs": [
        {
          "output_type": "stream",
          "text": [
            "TensorFlow 2.x selected.\n",
            "2.1.0\n"
          ],
          "name": "stdout"
        }
      ]
    },
    {
      "cell_type": "markdown",
      "metadata": {
        "id": "RuAacxcCrj-r",
        "colab_type": "text"
      },
      "source": [
        "***Loading Data***"
      ]
    },
    {
      "cell_type": "code",
      "metadata": {
        "id": "3kITODEerMTx",
        "colab_type": "code",
        "colab": {}
      },
      "source": [
        "data = tf.keras.datasets.mnist"
      ],
      "execution_count": 0,
      "outputs": []
    },
    {
      "cell_type": "code",
      "metadata": {
        "id": "8Z8BTqYNriXZ",
        "colab_type": "code",
        "colab": {}
      },
      "source": [
        "(x_train,y_train),(x_test,y_test) = data.load_data() #Loading mnist data\n"
      ],
      "execution_count": 0,
      "outputs": []
    },
    {
      "cell_type": "code",
      "metadata": {
        "id": "VvxSXVyUuGfi",
        "colab_type": "code",
        "colab": {}
      },
      "source": [
        "x_train , x_test = x_train/255 , x_test/255 #Normalizing by bring down values to 0-1\n",
        " "
      ],
      "execution_count": 0,
      "outputs": []
    },
    {
      "cell_type": "markdown",
      "metadata": {
        "id": "OABjki0Tv1tF",
        "colab_type": "text"
      },
      "source": [
        "***Building Model***"
      ]
    },
    {
      "cell_type": "code",
      "metadata": {
        "id": "WhJGJw1Hv9gV",
        "colab_type": "code",
        "colab": {}
      },
      "source": [
        "model = tf.keras.models.Sequential([\n",
        "     tf.keras.layers.Flatten(input_shape=(28,28)),\n",
        "     tf.keras.layers.Dense(128, activation='relu'),\n",
        "     tf.keras.layers.Dropout(0.2),\n",
        "     tf.keras.layers.Dense(10,activation='softmax')\n",
        "    ])"
      ],
      "execution_count": 0,
      "outputs": []
    },
    {
      "cell_type": "code",
      "metadata": {
        "id": "V7huikzF6ExQ",
        "colab_type": "code",
        "colab": {}
      },
      "source": [
        "#COmpiling Model\n",
        "model.compile(optimizer='adam',\n",
        "              loss='sparse_categorical_crossentropy',\n",
        "              metrics=['accuracy'])"
      ],
      "execution_count": 0,
      "outputs": []
    },
    {
      "cell_type": "code",
      "metadata": {
        "id": "8Uqh7WCM8B7H",
        "colab_type": "code",
        "colab": {
          "base_uri": "https://localhost:8080/",
          "height": 451
        },
        "outputId": "16aa8ecb-4a5c-4fd5-c390-9bb8e868bd0f"
      },
      "source": [
        "result = model.fit(x_train,y_train, validation_data=(x_test,y_test), epochs=12)"
      ],
      "execution_count": 16,
      "outputs": [
        {
          "output_type": "stream",
          "text": [
            "Train on 60000 samples, validate on 10000 samples\n",
            "Epoch 1/12\n",
            "60000/60000 [==============================] - 6s 93us/sample - loss: 0.2927 - accuracy: 0.9137 - val_loss: 0.1324 - val_accuracy: 0.9586\n",
            "Epoch 2/12\n",
            "60000/60000 [==============================] - 5s 82us/sample - loss: 0.1401 - accuracy: 0.9592 - val_loss: 0.0983 - val_accuracy: 0.9703\n",
            "Epoch 3/12\n",
            "60000/60000 [==============================] - 5s 80us/sample - loss: 0.1047 - accuracy: 0.9683 - val_loss: 0.0812 - val_accuracy: 0.9748\n",
            "Epoch 4/12\n",
            "60000/60000 [==============================] - 5s 83us/sample - loss: 0.0861 - accuracy: 0.9736 - val_loss: 0.0828 - val_accuracy: 0.9732\n",
            "Epoch 5/12\n",
            "60000/60000 [==============================] - 5s 82us/sample - loss: 0.0734 - accuracy: 0.9773 - val_loss: 0.0764 - val_accuracy: 0.9773\n",
            "Epoch 6/12\n",
            "60000/60000 [==============================] - 5s 82us/sample - loss: 0.0642 - accuracy: 0.9797 - val_loss: 0.0704 - val_accuracy: 0.9774\n",
            "Epoch 7/12\n",
            "60000/60000 [==============================] - 5s 82us/sample - loss: 0.0571 - accuracy: 0.9821 - val_loss: 0.0648 - val_accuracy: 0.9798\n",
            "Epoch 8/12\n",
            "60000/60000 [==============================] - 5s 81us/sample - loss: 0.0525 - accuracy: 0.9827 - val_loss: 0.0646 - val_accuracy: 0.9800\n",
            "Epoch 9/12\n",
            "60000/60000 [==============================] - 5s 81us/sample - loss: 0.0468 - accuracy: 0.9845 - val_loss: 0.0752 - val_accuracy: 0.9766\n",
            "Epoch 10/12\n",
            "60000/60000 [==============================] - 5s 82us/sample - loss: 0.0426 - accuracy: 0.9857 - val_loss: 0.0764 - val_accuracy: 0.9776\n",
            "Epoch 11/12\n",
            "60000/60000 [==============================] - 5s 80us/sample - loss: 0.0410 - accuracy: 0.9864 - val_loss: 0.0665 - val_accuracy: 0.9806\n",
            "Epoch 12/12\n",
            "60000/60000 [==============================] - 5s 81us/sample - loss: 0.0389 - accuracy: 0.9871 - val_loss: 0.0726 - val_accuracy: 0.9790\n"
          ],
          "name": "stdout"
        }
      ]
    }
  ]
}